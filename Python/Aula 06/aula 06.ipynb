{
 "cells": [
  {
   "cell_type": "code",
   "execution_count": null,
   "metadata": {},
   "outputs": [],
   "source": [
    "# Comando Aleatório (Random)\n",
    "\n",
    "import random\n",
    "\n",
    "print(random.random())          # gera valores aleatórios de forma geral\n",
    "print(random.randint(1, 5))     # gera valores aleatórios inteiros dentro de um raio\n",
    "0.9371222692110478\n",
    "3"
   ]
  }
 ],
 "metadata": {
  "language_info": {
   "name": "python"
  }
 },
 "nbformat": 4,
 "nbformat_minor": 2
}
