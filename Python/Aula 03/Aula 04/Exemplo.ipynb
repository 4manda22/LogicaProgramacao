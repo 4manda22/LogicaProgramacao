{
 "cells": [
  {
   "cell_type": "code",
   "execution_count": null,
   "metadata": {},
   "outputs": [],
   "source": [
    "# For simples\n",
    "\n",
    "for x in [1, 2, 3]:\n",
    "  print(x)\n",
    "for x in [1, \"lucas\", 3]:\n",
    "  print(x)\n",
    "# For usando range - 1 a 10\n",
    "\n",
    "for x in range(11):\n",
    "  print(x)\n",
    "for x in range(0, 11, 2):\n",
    "  print(x)\n",
    "# For usando range - 1 a 10 Salteando de 2\n",
    "\n",
    "for x in range(1, 11, 2):\n",
    "  print(x)\n",
    "# For usando range invertido - 10 a 1\n",
    "\n",
    "for x in range(-10, 0, 2):\n",
    "  print(x)\n",
    "for x in range(3, -8, -1):\n",
    "    print(x)\n",
    "cont= \"olá mundo\"\n",
    "\n",
    "for x in [[1,8,6], \"porta\", 5 + 8, cont]:\n",
    "    print(x,type(x))"
   ]
  }
 ],
 "metadata": {
  "language_info": {
   "name": "python"
  }
 },
 "nbformat": 4,
 "nbformat_minor": 2
}
