{
 "cells": [
  {
   "cell_type": "code",
   "execution_count": 11,
   "metadata": {},
   "outputs": [
    {
     "name": "stdout",
     "output_type": "stream",
     "text": [
      "O valor total das som dos números pares é: 8\n"
     ]
    }
   ],
   "source": [
    "#03/11\n",
    "#Q-1\n",
    "contador = 1\n",
    "total = 0\n",
    "\n",
    "while contador <= 5:\n",
    "  contador = contador + 1\n",
    "  valor = int(input(\"Insira um número:\"))\n",
    "  if valor % 2 == 0:     \n",
    "      total = total + valor    \n",
    "print(\"O valor total das som dos números pares é:\",total)      "
   ]
  },
  {
   "cell_type": "code",
   "execution_count": 12,
   "metadata": {},
   "outputs": [
    {
     "name": "stdout",
     "output_type": "stream",
     "text": [
      "2\n",
      "2\n",
      "5\n",
      "1\n",
      "0\n",
      " O maior valor digitado é 8\n"
     ]
    }
   ],
   "source": [
    "#Q-2\n",
    "\n",
    "cont = 1\n",
    "maior = 0\n",
    "while cont <= 5:\n",
    "    print(valor)\n",
    "    valor = int(input(\"Digite um número\")) \n",
    "    cont = cont + 1\n",
    "    if valor > maior:\n",
    "        maior = valor\n",
    "print(\" O maior valor digitado é\",maior)        \n",
    "\n"
   ]
  },
  {
   "cell_type": "code",
   "execution_count": 14,
   "metadata": {},
   "outputs": [
    {
     "name": "stdout",
     "output_type": "stream",
     "text": [
      "3\n",
      "5\n",
      "7\n",
      "9\n",
      "11\n"
     ]
    }
   ],
   "source": [
    "#Q-3\n",
    "cont = 1\n",
    "\n",
    "while cont <= 10:\n",
    "    cont = cont + 1\n",
    "    if cont % 2 != 0:\n",
    "        print(cont)"
   ]
  },
  {
   "cell_type": "code",
   "execution_count": 1,
   "metadata": {},
   "outputs": [
    {
     "name": "stdout",
     "output_type": "stream",
     "text": [
      "2\n",
      "3\n"
     ]
    }
   ],
   "source": [
    "#Q-4\n",
    "\n",
    "cont = 1\n",
    "\n",
    "limite = int(input(\"Insira um número final\"))\n",
    "while cont <= limite:\n",
    "    cont = cont + 1\n",
    "    print(cont)"
   ]
  },
  {
   "cell_type": "code",
   "execution_count": 2,
   "metadata": {},
   "outputs": [
    {
     "name": "stdout",
     "output_type": "stream",
     "text": [
      "A sua média Final é 2.0\n",
      "A sua média Final é 2\n",
      "A sua média Final é 2\n"
     ]
    }
   ],
   "source": [
    "#Q-2\n",
    "\n",
    "cont = 1\n",
    "media = 0\n",
    "\n",
    "while cont <= 3:\n",
    "    nota = int(input(f\"Insira a Nota {cont}\"))\n",
    "    media = media + nota\n",
    "    cont = cont + 1\n",
    "\n",
    "print(\"A sua média Final é\", media/3)\n",
    "print(\"A sua média Final é\", int(media/3))\n",
    "print(\"A sua média Final é\", media//3)"
   ]
  },
  {
   "cell_type": "code",
   "execution_count": 3,
   "metadata": {},
   "outputs": [
    {
     "name": "stdout",
     "output_type": "stream",
     "text": [
      "4 x 0 = 0\n",
      "4 x 1 = 4\n",
      "4 x 2 = 8\n",
      "4 x 3 = 12\n",
      "4 x 4 = 16\n",
      "4 x 5 = 20\n",
      "4 x 6 = 24\n",
      "4 x 7 = 28\n",
      "4 x 8 = 32\n",
      "4 x 9 = 36\n",
      "4 x 10 = 40\n",
      "4 x 0 = 0\n",
      "4 x 1 = 4\n",
      "4 x 2 = 8\n",
      "4 x 3 = 12\n",
      "4 x 4 = 16\n",
      "4 x 5 = 20\n",
      "4 x 6 = 24\n",
      "4 x 7 = 28\n",
      "4 x 8 = 32\n",
      "4 x 9 = 36\n",
      "4 x 10 = 40\n"
     ]
    }
   ],
   "source": [
    "# Questão 3\n",
    "\n",
    "cont = 0\n",
    "numero = 4\n",
    "\n",
    "while cont <= 10:\n",
    "    resultado = numero * cont\n",
    "    print(f\"{numero} x {cont} = {resultado}\")\n",
    "    cont = cont + 1\n",
    "# Questão 3 - Versão 2.0\n",
    "\n",
    "cont = 0\n",
    "\n",
    "while cont <= 10:\n",
    "    print(f\"4 x {cont} = {4*cont}\")\n",
    "    cont = cont + 1"
   ]
  },
  {
   "cell_type": "code",
   "execution_count": 4,
   "metadata": {},
   "outputs": [
    {
     "name": "stdout",
     "output_type": "stream",
     "text": [
      "O valor em Dólar é 0.4081632653061224\n",
      "O valor em Dólar é 0.6122448979591836\n"
     ]
    }
   ],
   "source": [
    "# Questão 4\n",
    "\n",
    "real = float(input(\"Digite o valor em Real (R$)\"))\n",
    "\n",
    "conversao = 4.9\n",
    "dolar = real / conversao\n",
    "print(\"O valor em Dólar é\",dolar)\n",
    "# Questão 4 - Versão 2.0\n",
    "\n",
    "real = float(input(\"Digite o valor em Real (R$)\"))\n",
    "\n",
    "print(f\"O valor em Dólar é {real/4.9}\")"
   ]
  }
 ],
 "metadata": {
  "kernelspec": {
   "display_name": "Python 3",
   "language": "python",
   "name": "python3"
  },
  "language_info": {
   "codemirror_mode": {
    "name": "ipython",
    "version": 3
   },
   "file_extension": ".py",
   "mimetype": "text/x-python",
   "name": "python",
   "nbconvert_exporter": "python",
   "pygments_lexer": "ipython3",
   "version": "3.12.0"
  }
 },
 "nbformat": 4,
 "nbformat_minor": 2
}
