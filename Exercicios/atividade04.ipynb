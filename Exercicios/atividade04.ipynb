{
 "cells": [
  {
   "cell_type": "code",
   "execution_count": 11,
   "metadata": {},
   "outputs": [
    {
     "name": "stdout",
     "output_type": "stream",
     "text": [
      "O valor total das som dos números pares é: 8\n"
     ]
    }
   ],
   "source": [
    "#03/11\n",
    "#Q-1\n",
    "contador = 1\n",
    "total = 0\n",
    "\n",
    "while contador <= 5:\n",
    "  contador = contador + 1\n",
    "  valor = int(input(\"Insira um número:\"))\n",
    "  if valor % 2 == 0:     \n",
    "      total = total + valor    \n",
    "print(\"O valor total das som dos números pares é:\",total)      "
   ]
  },
  {
   "cell_type": "code",
   "execution_count": 12,
   "metadata": {},
   "outputs": [
    {
     "name": "stdout",
     "output_type": "stream",
     "text": [
      "2\n",
      "2\n",
      "5\n",
      "1\n",
      "0\n",
      " O maior valor digitado é 8\n"
     ]
    }
   ],
   "source": [
    "#Q-2\n",
    "\n",
    "cont = 1\n",
    "maior = 0\n",
    "while cont <= 5:\n",
    "    print(valor)\n",
    "    valor = int(input(\"Digite um número\")) \n",
    "    cont = cont + 1\n",
    "    if valor > maior:\n",
    "        maior = valor\n",
    "print(\" O maior valor digitado é\",maior)        \n",
    "\n"
   ]
  },
  {
   "cell_type": "code",
   "execution_count": 14,
   "metadata": {},
   "outputs": [
    {
     "name": "stdout",
     "output_type": "stream",
     "text": [
      "3\n",
      "5\n",
      "7\n",
      "9\n",
      "11\n"
     ]
    }
   ],
   "source": [
    "#Q-3\n",
    "cont = 1\n",
    "\n",
    "while cont <= 10:\n",
    "    cont = cont + 1\n",
    "    if cont % 2 != 0:\n",
    "        print(cont)"
   ]
  },
  {
   "cell_type": "code",
   "execution_count": 16,
   "metadata": {},
   "outputs": [
    {
     "name": "stdout",
     "output_type": "stream",
     "text": [
      "2\n",
      "3\n",
      "4\n",
      "5\n",
      "6\n"
     ]
    }
   ],
   "source": [
    "#Q-4\n",
    "\n",
    "cont = 1\n",
    "\n",
    "limite = int(input(\"Insira um número final\"))\n",
    "while cont <= limite:\n",
    "    cont = cont + 1\n",
    "    print(cont)"
   ]
  }
 ],
 "metadata": {
  "kernelspec": {
   "display_name": "Python 3",
   "language": "python",
   "name": "python3"
  },
  "language_info": {
   "codemirror_mode": {
    "name": "ipython",
    "version": 3
   },
   "file_extension": ".py",
   "mimetype": "text/x-python",
   "name": "python",
   "nbconvert_exporter": "python",
   "pygments_lexer": "ipython3",
   "version": "3.12.0"
  }
 },
 "nbformat": 4,
 "nbformat_minor": 2
}
