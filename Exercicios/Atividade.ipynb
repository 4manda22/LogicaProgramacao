{
 "cells": [
  {
   "cell_type": "code",
   "execution_count": 1,
   "metadata": {},
   "outputs": [
    {
     "name": "stdout",
     "output_type": "stream",
     "text": [
      "0\n",
      "1\n",
      "2\n",
      "3\n",
      "4\n",
      "5\n"
     ]
    }
   ],
   "source": [
    "x = 0\n",
    "while x<=5:\n",
    "    print(x)\n",
    "    x = x+1"
   ]
  },
  {
   "cell_type": "code",
   "execution_count": 1,
   "metadata": {},
   "outputs": [
    {
     "name": "stdout",
     "output_type": "stream",
     "text": [
      "olá mundo 0\n",
      "olá mundo 1\n",
      "olá mundo 2\n",
      "olá mundo 3\n",
      "olá mundo 4\n",
      "olá mundo 5\n"
     ]
    }
   ],
   "source": [
    "x = 0\n",
    "while x<=5:\n",
    "    print(\"olá mundo\", x)\n",
    "    x = x+1"
   ]
  },
  {
   "cell_type": "code",
   "execution_count": 2,
   "metadata": {},
   "outputs": [
    {
     "name": "stdout",
     "output_type": "stream",
     "text": [
      "olá mundo 10\n",
      "olá mundo 11\n",
      "olá mundo 12\n",
      "olá mundo 13\n",
      "olá mundo 14\n",
      "olá mundo 15\n"
     ]
    }
   ],
   "source": [
    "x = 10\n",
    "while x<=15:\n",
    "    print(\"olá mundo\", x)\n",
    "    x = x+1"
   ]
  },
  {
   "cell_type": "code",
   "execution_count": 20,
   "metadata": {},
   "outputs": [
    {
     "name": "stdout",
     "output_type": "stream",
     "text": [
      "O resultado da soma é: 10\n"
     ]
    }
   ],
   "source": [
    "#QUESTÃO - 1\n",
    "\n",
    "contador = 1\n",
    "soma = 0\n",
    "\n",
    "while contador <= 5:\n",
    "    x = int(input(\"Digite um valor\"))\n",
    "    soma = soma + x\n",
    "    contador = contador + 1\n",
    "print(\"O resultado da soma é:\",soma)\n",
    "    "
   ]
  },
  {
   "cell_type": "code",
   "execution_count": 21,
   "metadata": {},
   "outputs": [
    {
     "name": "stdout",
     "output_type": "stream",
     "text": [
      "2\n",
      "5\n",
      "6\n",
      "11\n"
     ]
    }
   ],
   "source": [
    "#Q - 2\n",
    "\n",
    "X = 0\n",
    "\n",
    "while x <= 10:\n",
    "    x = int(input(\"Insira um valor\"))\n",
    "    print(x)"
   ]
  }
 ],
 "metadata": {
  "kernelspec": {
   "display_name": "Python 3",
   "language": "python",
   "name": "python3"
  },
  "language_info": {
   "codemirror_mode": {
    "name": "ipython",
    "version": 3
   },
   "file_extension": ".py",
   "mimetype": "text/x-python",
   "name": "python",
   "nbconvert_exporter": "python",
   "pygments_lexer": "ipython3",
   "version": "3.12.0"
  }
 },
 "nbformat": 4,
 "nbformat_minor": 2
}
