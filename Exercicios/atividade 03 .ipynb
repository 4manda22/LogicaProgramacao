{
 "cells": [
  {
   "cell_type": "code",
   "execution_count": 10,
   "metadata": {},
   "outputs": [
    {
     "name": "stdout",
     "output_type": "stream",
     "text": [
      "O resultado desses números é 8\n",
      "O resultado da soma destes números é 8\n"
     ]
    }
   ],
   "source": [
    "# Q-1\n",
    "w= int(input(\"Insira o primeiro números:\"))\n",
    "x= int(input(\"Insira o segundo número\"))\n",
    "\n",
    "print(f\"O resultado desses números é {w + x}\")\n",
    "print(\"O resultado da soma destes números é\", w + x)"
   ]
  },
  {
   "cell_type": "code",
   "execution_count": 19,
   "metadata": {},
   "outputs": [
    {
     "name": "stdout",
     "output_type": "stream",
     "text": [
      "Incorreto\n"
     ]
    }
   ],
   "source": [
    "\n",
    "# Q-2\n",
    "\n",
    "fruta = \"banana\"\n",
    "suposicao = input(\"adivinhe a fruta: \")\n",
    "if suposicao == fruta:\n",
    "    print(\"correta\")\n",
    "else:\n",
    "    print(\"Incorreto\")\n"
   ]
  },
  {
   "cell_type": "code",
   "execution_count": 24,
   "metadata": {},
   "outputs": [
    {
     "name": "stdout",
     "output_type": "stream",
     "text": [
      "fora do intervalo\n"
     ]
    }
   ],
   "source": [
    "# Q-3\n",
    "numero = int(input(\"Insira um número\"))\n",
    "if numero>=1 and numero<=10:\n",
    "    print(\"Dentro do intervalo!\")\n",
    "else:\n",
    "    print(\"fora do intervalo\")\n",
    "\n"
   ]
  },
  {
   "cell_type": "code",
   "execution_count": 43,
   "metadata": {},
   "outputs": [
    {
     "name": "stdout",
     "output_type": "stream",
     "text": [
      "Saldo zero\n"
     ]
    }
   ],
   "source": [
    "#  Q-4\n",
    "saldo = 100.0\n",
    "if saldo>100:\n",
    "    print(\"Saldo positivo\")\n",
    "elif saldo == 0:\n",
    "    print(\"Saldo zero\")\n",
    "else:\n",
    "    print(\"Saldo negativo\")"
   ]
  },
  {
   "cell_type": "code",
   "execution_count": 48,
   "metadata": {},
   "outputs": [
    {
     "name": "stdout",
     "output_type": "stream",
     "text": [
      "A temperatura em fahrenheit é 77.9\n"
     ]
    }
   ],
   "source": [
    "# Q-5\n",
    "\n",
    "temperatura = 25.5\n",
    "fahrenheit = temperatura*9/5+32\n",
    "print(\"A temperatura em fahrenheit é\",fahrenheit)"
   ]
  }
 ],
 "metadata": {
  "kernelspec": {
   "display_name": "Python 3",
   "language": "python",
   "name": "python3"
  },
  "language_info": {
   "codemirror_mode": {
    "name": "ipython",
    "version": 3
   },
   "file_extension": ".py",
   "mimetype": "text/x-python",
   "name": "python",
   "nbconvert_exporter": "python",
   "pygments_lexer": "ipython3",
   "version": "3.12.0"
  }
 },
 "nbformat": 4,
 "nbformat_minor": 2
}
