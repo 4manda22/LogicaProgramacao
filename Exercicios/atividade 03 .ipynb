{
 "cells": [
  {
   "cell_type": "code",
   "execution_count": 10,
   "metadata": {},
   "outputs": [
    {
     "name": "stdout",
     "output_type": "stream",
     "text": [
      "O resultado desses números é 8\n",
      "O resultado da soma destes números é 8\n"
     ]
    }
   ],
   "source": [
    "1#\n",
    "w= int(input(\"Insira o primeiro números:\"))\n",
    "x= int(input(\"Insira o segundo número\"))\n",
    "\n",
    "print(f\"O resultado desses números é {w + x}\")\n",
    "print(\"O resultado da soma destes números é\", w + x)"
   ]
  },
  {
   "cell_type": "code",
   "execution_count": 14,
   "metadata": {},
   "outputs": [],
   "source": [
    "2#\n",
    "\n",
    "fruta = \"banana\"\n",
    "suposicao = input(\"adivinhe a fruta: \")\n",
    "if suposicao == fruta:\n",
    "    print(\"correta\")\n",
    "else:\n",
    "    print(\"Incorreto\")\n",
    "\n",
    "\n"
   ]
  }
 ],
 "metadata": {
  "kernelspec": {
   "display_name": "Python 3",
   "language": "python",
   "name": "python3"
  },
  "language_info": {
   "codemirror_mode": {
    "name": "ipython",
    "version": 3
   },
   "file_extension": ".py",
   "mimetype": "text/x-python",
   "name": "python",
   "nbconvert_exporter": "python",
   "pygments_lexer": "ipython3",
   "version": "3.12.0"
  }
 },
 "nbformat": 4,
 "nbformat_minor": 2
}
