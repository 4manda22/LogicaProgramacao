{
 "cells": [
  {
   "cell_type": "code",
   "execution_count": 74,
   "metadata": {},
   "outputs": [
    {
     "name": "stdout",
     "output_type": "stream",
     "text": [
      "8\n",
      "15\n"
     ]
    }
   ],
   "source": [
    "#Q-1\n",
    "\n",
    "a = 5\n",
    "b = 3\n",
    "print(a+b)\n",
    "\n",
    "print(a*b)\n"
   ]
  },
  {
   "cell_type": "code",
   "execution_count": 11,
   "metadata": {},
   "outputs": [
    {
     "name": "stdout",
     "output_type": "stream",
     "text": [
      "['amarelo', 'vermelho', 'azul', 'cinza', 'roxo']\n"
     ]
    }
   ],
   "source": [
    "#Q-2\n",
    "lista= [\"amarelo\", \"vermelho\", \n",
    "\"azul\", \"cinza\", \"roxo\"]\n",
    "print(lista)"
   ]
  },
  {
   "cell_type": "code",
   "execution_count": 14,
   "metadata": {},
   "outputs": [
    {
     "name": "stdout",
     "output_type": "stream",
     "text": [
      "Brasilía\n"
     ]
    }
   ],
   "source": [
    "#Q-3\n",
    "\n",
    "umDicio = {\"Alemanha\": \"berlin\", \"Andorra\": \"Andorra la vella\",\n",
    "\"Áustria\": \"Viena\", \n",
    " \"Brasil\": \"Brasilía\"\n",
    " }\n",
    "print(umDicio[\"Brasil\"])"
   ]
  },
  {
   "cell_type": "code",
   "execution_count": 12,
   "metadata": {},
   "outputs": [
    {
     "name": "stdout",
     "output_type": "stream",
     "text": [
      "Maior de idade\n"
     ]
    }
   ],
   "source": [
    "#Q-4\n",
    "\n",
    "idade = 18\n",
    "if idade >= 18:\n",
    "  print(\"Maior de idade\")"
   ]
  },
  {
   "cell_type": "code",
   "execution_count": 8,
   "metadata": {},
   "outputs": [
    {
     "name": "stdout",
     "output_type": "stream",
     "text": [
      "boa noite\n"
     ]
    }
   ],
   "source": [
    "#Q-5\n",
    "\n"
   ]
  },
  {
   "cell_type": "code",
   "execution_count": null,
   "metadata": {},
   "outputs": [],
   "source": [
    "#Q-6\n",
    "x = 1\n",
    "while x<=5:\n",
    "    print(x)\n",
    "    x = x + 1"
   ]
  },
  {
   "cell_type": "code",
   "execution_count": null,
   "metadata": {},
   "outputs": [],
   "source": [
    "#Q-7\n"
   ]
  },
  {
   "cell_type": "code",
   "execution_count": 9,
   "metadata": {},
   "outputs": [
    {
     "name": "stdout",
     "output_type": "stream",
     "text": [
      "('maracuja', 'banana')\n",
      "maracuja\n",
      "banana\n"
     ]
    }
   ],
   "source": [
    "#Q-8\n",
    "lista = [\"maracuja\",\"uva\",\"limão\",\"banana\"]\n",
    "x = lista[0], lista[3]\n",
    "print(x)\n",
    "\n",
    "print(lista[0])\n",
    "print(lista[3])"
   ]
  },
  {
   "cell_type": "code",
   "execution_count": 10,
   "metadata": {},
   "outputs": [
    {
     "name": "stdout",
     "output_type": "stream",
     "text": [
      "1\n",
      "2\n",
      "3\n",
      "4\n",
      "5\n",
      "6\n",
      "7\n",
      "8\n",
      "9\n",
      "10\n"
     ]
    }
   ],
   "source": [
    "#Q-9\n",
    "for x in range (1,11):\n",
    "    print(x)"
   ]
  },
  {
   "cell_type": "code",
   "execution_count": null,
   "metadata": {},
   "outputs": [],
   "source": [
    "#Q-10\n"
   ]
  },
  {
   "cell_type": "code",
   "execution_count": 15,
   "metadata": {},
   "outputs": [
    {
     "name": "stdout",
     "output_type": "stream",
     "text": [
      "0\n",
      "1\n",
      "2\n",
      "3\n",
      "4\n"
     ]
    }
   ],
   "source": [
    "#Q-11\n",
    "cont=0\n",
    "\n",
    "while cont <=10:\n",
    "    print(cont)\n",
    "    cont= cont +1\n",
    "    if cont == 5:\n",
    "        break\n",
    "        "
   ]
  },
  {
   "cell_type": "code",
   "execution_count": 16,
   "metadata": {},
   "outputs": [
    {
     "name": "stdout",
     "output_type": "stream",
     "text": [
      "Ímpar\n"
     ]
    }
   ],
   "source": [
    "#Q-12\n",
    "numero = 7\n",
    "if numero % 2 ==2:\n",
    "    print(\"Par\")\n",
    "else:\n",
    "    print(\"Ímpar\")"
   ]
  },
  {
   "cell_type": "code",
   "execution_count": null,
   "metadata": {},
   "outputs": [],
   "source": [
    "#Q-13\n",
    "\n"
   ]
  }
 ],
 "metadata": {
  "kernelspec": {
   "display_name": "Python 3",
   "language": "python",
   "name": "python3"
  },
  "language_info": {
   "codemirror_mode": {
    "name": "ipython",
    "version": 3
   },
   "file_extension": ".py",
   "mimetype": "text/x-python",
   "name": "python",
   "nbconvert_exporter": "python",
   "pygments_lexer": "ipython3",
   "version": "3.12.0"
  }
 },
 "nbformat": 4,
 "nbformat_minor": 2
}
