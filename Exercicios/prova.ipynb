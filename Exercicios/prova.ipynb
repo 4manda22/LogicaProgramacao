{
 "cells": [
  {
   "cell_type": "code",
   "execution_count": 3,
   "metadata": {},
   "outputs": [
    {
     "name": "stdout",
     "output_type": "stream",
     "text": [
      "A subtração de 10 e 20 é: -10\n",
      " A divisão de 10 e 20 é: 0.5\n"
     ]
    }
   ],
   "source": [
    "#Q-1\n",
    "x = 10\n",
    "y = 20\n",
    "\n",
    "print(f\"A subtração de {x} e {y} é:\", (x-y))\n",
    "print(f\" A divisão de {x} e {y} é:\", x/y)\n"
   ]
  },
  {
   "cell_type": "code",
   "execution_count": 9,
   "metadata": {},
   "outputs": [
    {
     "name": "stdout",
     "output_type": "stream",
     "text": [
      "maça\n",
      "uva\n",
      "melão\n",
      "laranja\n",
      "rosa\n"
     ]
    }
   ],
   "source": [
    "#Q-2\n",
    "frutas = [\"maça\", \"uva\", \"melão\", \"laranja\", \"rosa\"]\n",
    "\n",
    "for frutas in frutas:\n",
    "    print(frutas)"
   ]
  },
  {
   "cell_type": "code",
   "execution_count": 14,
   "metadata": {},
   "outputs": [
    {
     "name": "stdout",
     "output_type": "stream",
     "text": [
      "1.6\n"
     ]
    }
   ],
   "source": [
    "#Q-3\n",
    "umDicio = dict(nome = \"luciana\", idade = 22, Altura = 1.60)\n",
    "x = umDicio[\"Altura\"]\n",
    "print(x)"
   ]
  },
  {
   "cell_type": "code",
   "execution_count": 23,
   "metadata": {},
   "outputs": [
    {
     "name": "stdout",
     "output_type": "stream",
     "text": [
      "Não pode usar o brinquedo\n"
     ]
    }
   ],
   "source": [
    "#Q-4\n",
    "altura = 1.25\n",
    "\n",
    "if altura == 1.40:\n",
    "    print(\"Pode usar o brinquedo\")\n",
    "else:\n",
    "    print(\"Não pode usar o brinquedo\")"
   ]
  },
  {
   "cell_type": "code",
   "execution_count": 65,
   "metadata": {},
   "outputs": [
    {
     "name": "stdout",
     "output_type": "stream",
     "text": [
      "Temperatura mediana\n"
     ]
    }
   ],
   "source": [
    "#Q-5\n",
    "\n",
    "Temperatura = 57\n",
    "\n",
    "if Temperatura >= 0 and Temperatura <= 35:\n",
    "    print(\"Temperatura baixa\")\n",
    "elif Temperatura >= 36 and  Temperatura<= 57:\n",
    "    print(\"Temperatura mediana\")\n",
    "elif Temperatura>= 58 and Temperatura <= 72:\n",
    "    print(\"Temperatura alta\")\n",
    "elif Temperatura >73:\n",
    "    print(\"Temperatura extrema\")\n",
    "else:\n",
    "    print(\"explosão\")"
   ]
  },
  {
   "cell_type": "code",
   "execution_count": 66,
   "metadata": {},
   "outputs": [
    {
     "name": "stdout",
     "output_type": "stream",
     "text": [
      "4\n",
      "5\n",
      "6\n",
      "7\n",
      "8\n",
      "9\n",
      "10\n",
      "11\n",
      "12\n"
     ]
    }
   ],
   "source": [
    "#Q-6\n",
    "x = 4\n",
    "while x <=12:\n",
    "    print(x)\n",
    "    x = x + 1"
   ]
  },
  {
   "cell_type": "code",
   "execution_count": 89,
   "metadata": {},
   "outputs": [
    {
     "name": "stdout",
     "output_type": "stream",
     "text": [
      "1\n",
      "3\n",
      "5\n",
      "7\n",
      "9\n"
     ]
    }
   ],
   "source": [
    "#Q-7\n",
    "\n",
    "\n",
    "numeros = [1,2,3,4,5,6,7,8,9,10]\n",
    "\n",
    "for x in numeros:\n",
    "    if x % 2 != 0:\n",
    "        print(x)"
   ]
  },
  {
   "cell_type": "code",
   "execution_count": 84,
   "metadata": {},
   "outputs": [
    {
     "name": "stdout",
     "output_type": "stream",
     "text": [
      "laranja\n",
      "acerola\n"
     ]
    }
   ],
   "source": [
    "#Q-8\n",
    "\n",
    "frutas = [\"laranja\", \"maça\", \"uva\", \"acerola\"]\n",
    "\n",
    "print(frutas[0])\n",
    "print(frutas[3])"
   ]
  },
  {
   "cell_type": "code",
   "execution_count": 96,
   "metadata": {},
   "outputs": [
    {
     "name": "stdout",
     "output_type": "stream",
     "text": [
      "-1\n",
      "-2\n",
      "-3\n",
      "-4\n",
      "-5\n",
      "-6\n",
      "-7\n",
      "-8\n",
      "-9\n",
      "-10\n"
     ]
    }
   ],
   "source": [
    "#Q-9\n",
    "\n",
    "for x in range (-1, -11, -1):\n",
    "    print(x)\n"
   ]
  },
  {
   "cell_type": "code",
   "execution_count": 1,
   "metadata": {},
   "outputs": [
    {
     "name": "stdout",
     "output_type": "stream",
     "text": [
      "coxinha está na lista\n"
     ]
    }
   ],
   "source": [
    "#Q-10\n",
    "\n",
    "lanches = [\"cachorro quente\",\"hamburguer\", \"coxinha\"]\n",
    "\n",
    "if \"coxinha\" in lanches:\n",
    "    print(\"coxinha está na lista\")\n",
    "else:\n",
    "    (\"coxinha não está dentro da lista\")\n"
   ]
  }
 ],
 "metadata": {
  "kernelspec": {
   "display_name": "Python 3",
   "language": "python",
   "name": "python3"
  },
  "language_info": {
   "codemirror_mode": {
    "name": "ipython",
    "version": 3
   },
   "file_extension": ".py",
   "mimetype": "text/x-python",
   "name": "python",
   "nbconvert_exporter": "python",
   "pygments_lexer": "ipython3",
   "version": "3.12.0"
  }
 },
 "nbformat": 4,
 "nbformat_minor": 2
}
